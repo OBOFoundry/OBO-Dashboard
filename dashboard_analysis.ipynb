{
 "cells": [
  {
   "cell_type": "code",
   "execution_count": null,
   "metadata": {},
   "outputs": [],
   "source": [
    "import os\n",
    "import yaml\n",
    "import pandas as pd\n",
    "import plotly.express as px\n",
    "import plotly.graph_objects as go\n",
    "import networkx as nx\n",
    "from IPython.display import HTML, display\n",
    "import matplotlib.pyplot as plt\n",
    "import plotly.io as pio\n",
    "pio.renderers.default = \"notebook\"\n",
    "\n",
    "data_path = os.path.join('dashboard','dashboard-results.yml')\n",
    "with open(data_path, 'r') as stream:\n",
    "    try:\n",
    "        data = yaml.safe_load(stream)\n",
    "    except yaml.YAMLError as exc:\n",
    "        print(exc)"
   ]
  },
  {
   "cell_type": "code",
   "execution_count": null,
   "metadata": {},
   "outputs": [],
   "source": [
    "m_axioms = [o['metrics']['Axioms: Number of axioms'] if 'metrics' in o else 0 for o in data['ontologies']]\n",
    "m_uses = [o['metrics']['Info: How many ontologies use it?'] if 'metrics' in o else 0 for o in data['ontologies']]\n",
    "m_onts = [o['namespace'] for o in data['ontologies']]\n",
    "m_classes = [o['metrics']['Entities: Number of classes'] if 'metrics' in o else 0 for o in data['ontologies']]\n",
    "m_entities_reuse = [o['metrics']['Entities: % of entities reused'] if 'metrics' in o else 0 for o in data['ontologies']]\n",
    "m_syntax = [o['metrics']['Info: Syntax'] if 'metrics' in o else \"unknown\" for o in data['ontologies']]\n",
    "m_score = [o['metrics']['Info: Experimental OBO score']['oboscore'] if 'metrics' in o else 0 for o in data['ontologies']]\n",
    "m_score_dash = [o['metrics']['Info: Experimental OBO score']['_dashboard'] if 'metrics' in o else 0 for o in data['ontologies']]\n",
    "m_score_reuse = [o['metrics']['Info: Experimental OBO score']['_reuse'] if 'metrics' in o else 0 for o in data['ontologies']]\n",
    "m_score_impact = [o['metrics']['Info: Experimental OBO score']['_impact'] if 'metrics' in o else 0 for o in data['ontologies']]\n",
    "\n",
    "\n",
    "\n",
    "df = pd.DataFrame({\n",
    "    'ontology': m_onts, \n",
    "    'axioms': m_axioms, \n",
    "    'classes': m_classes, \n",
    "    'entities_reused': m_entities_reuse,\n",
    "    'uses': m_uses,\n",
    "    'score': m_score,\n",
    "    'score_dash': m_score_dash,\n",
    "    'score_reuse': m_score_reuse,\n",
    "    'score_impact': m_score_impact,\n",
    "    'syntax': m_syntax\n",
    "})\n",
    "\n",
    "df_all = pd.json_normalize(data['ontologies'])\n",
    "\n",
    "#Info: Breakdown of OWL class expressions used\n",
    "#results\n",
    "def plot_bar(df, feature, logx=True):\n",
    "    df.sort_values(by=feature,inplace=True)\n",
    "    height = 300+(len(df)*10)\n",
    "    fig = px.bar(df, y=\"ontology\", x=feature, orientation='h', width=800,height=height, log_x=logx)\n",
    "    fig.update_layout(\n",
    "        yaxis=dict(\n",
    "            title='ontology',\n",
    "            tickmode='linear')\n",
    "    )\n",
    "\n",
    "    fig.show() "
   ]
  },
  {
   "cell_type": "markdown",
   "metadata": {},
   "source": [
    "# OBO Foundry dashboard analysis"
   ]
  },
  {
   "cell_type": "code",
   "execution_count": null,
   "metadata": {},
   "outputs": [],
   "source": [
    "display(HTML('<a href=\"index.html\">Back to dashboard main page</a>'))"
   ]
  },
  {
   "cell_type": "code",
   "execution_count": null,
   "metadata": {},
   "outputs": [],
   "source": [
    "def table_breakdown(df_all, col_prefix):\n",
    "    df_axiom_types = df_all[[col for col in df_all if (col.startswith(col_prefix))]].copy()\n",
    "    df_axiom_types['o']=df_all['namespace']  \n",
    "    df_axiom_types.columns = [col.replace(col_prefix,\"\") for col in df_axiom_types]\n",
    "    df_axiom_types.fillna(0,inplace=True)\n",
    "    dt_info=df_axiom_types.describe().T\n",
    "    dt_info['count']=df_axiom_types.astype(bool).sum(axis=0)\n",
    "    dt_info.sort_values(by='count',inplace=True, ascending=False)\n",
    "    return dt_info\n",
    "\n"
   ]
  },
  {
   "cell_type": "code",
   "execution_count": null,
   "metadata": {},
   "outputs": [],
   "source": [
    "dashboard_results = []\n",
    "for o in data['ontologies']:\n",
    "    if 'results' in o:\n",
    "        for res in o['results']:\n",
    "            if res.startswith(\"FP\"):\n",
    "                dashboard_results.append([o['namespace'], res, o['results'][res]['status']])\n",
    "df_results = pd.DataFrame(dashboard_results,columns=['ontology', 'check', 'status'])\n",
    "df_results_agg = df_results.groupby(['check','status']).agg(['count'])\n",
    "df_results_agg = df_results_agg.add_suffix('_Count').reset_index()\n",
    "df_results_agg.columns = ['check','status','count']\n",
    "df_results_agg.sort_values('check', ascending=False, inplace=True)\n",
    "height = 300+(len(df)*10)\n",
    "fig = px.bar(df_results_agg, y=\"check\", x='count', color='status', orientation='h', width=800,height=height)\n",
    "fig.update_layout(\n",
    "    yaxis=dict(\n",
    "        title='check',\n",
    "        tickmode='linear')\n",
    ")\n",
    "\n",
    "fig.show()"
   ]
  },
  {
   "cell_type": "code",
   "execution_count": null,
   "metadata": {},
   "outputs": [],
   "source": [
    "display(HTML('<h3>Ontologies by number of axioms</h3>'))\n",
    "plot_bar(df, \"axioms\")"
   ]
  },
  {
   "cell_type": "code",
   "execution_count": null,
   "metadata": {},
   "outputs": [],
   "source": [
    "display(HTML('<h3>Ontologies by number of classes</h3>'))\n",
    "plot_bar(df, \"classes\")"
   ]
  },
  {
   "cell_type": "code",
   "execution_count": null,
   "metadata": {},
   "outputs": [],
   "source": [
    "display(HTML('<h3>Ontologies by how many ontologies use it</h3>'))\n",
    "plot_bar(df, \"uses\")"
   ]
  },
  {
   "cell_type": "code",
   "execution_count": null,
   "metadata": {},
   "outputs": [],
   "source": [
    "display(HTML('<h3>Different serialisations used</h3>'))\n",
    "df['syntax'].value_counts()"
   ]
  },
  {
   "cell_type": "code",
   "execution_count": null,
   "metadata": {},
   "outputs": [],
   "source": [
    "display(HTML('<h3>Breakdown of used Axiom Types</h3>'))\n",
    "display(HTML(table_breakdown(df_all,'metrics.Axioms: Breakdown of axiom types.').to_html()))\n",
    "\n",
    "display(HTML('<h3>Breakdown of used OWL Class Expression constructs</h3>'))\n",
    "display(HTML(table_breakdown(df_all,'metrics.Info: Breakdown of OWL class expressions used.').to_html()))\n"
   ]
  },
  {
   "cell_type": "code",
   "execution_count": null,
   "metadata": {},
   "outputs": [],
   "source": [
    "\n",
    "df_score = df[['ontology','score','score_dash','score_reuse','score_impact']].copy()\n",
    "#df_score=\n",
    "df_score.sort_values('score',inplace=True, ascending=False)\n",
    "\n",
    "display(HTML('<h3>OBO Score (Experimental)</h3>'))\n",
    "display(df_score)\n",
    "display(HTML('<h4>OBO Score Summary</h4>'))\n",
    "display(df_score.describe().T)"
   ]
  },
  {
   "cell_type": "code",
   "execution_count": null,
   "metadata": {},
   "outputs": [],
   "source": [
    "display(HTML('<h3>OBO dependency graph</h3><p>yellow circles have less than 20, green more than 20 but less than 50 and blue circles more than 50 registered uses.</p>'))\n",
    "\n",
    "dependencies = dict()\n",
    "for o in data['ontologies']:\n",
    "    if 'metrics' in o:\n",
    "        if 'Info: Which ontologies use it?' in o['metrics']:\n",
    "            dependencies[o['namespace']] = o['metrics']['Info: Which ontologies use it?']\n",
    "            \n",
    "G=nx.DiGraph()\n",
    "#for o in dependencies:\n",
    "#    if len(dependencies[o])>1:\n",
    "#        G.add_node(o)\n",
    "for o in dependencies:\n",
    "    if len(dependencies[o])>1:\n",
    "        for dep in dependencies[o]:\n",
    "            G.add_edge(dep,o)\n",
    "\n",
    "#nx.draw(G, with_labels=True, font_weight='bold')\n",
    "d = dict(G.degree)\n",
    "\n",
    "\n",
    "plt.figure(figsize=(12,12)) \n",
    "node_size = [v * 50 if v>2 else 5 for v in d.values()]\n",
    "color_map = []\n",
    "for v in d.values():\n",
    "    if v<20:\n",
    "        color_map.append(\"yellow\")\n",
    "    elif v<50:\n",
    "        color_map.append(\"green\")\n",
    "    else:\n",
    "        color_map.append(\"blue\")\n",
    "nx.draw_random(G, with_labels=True, node_size=node_size, node_color=color_map)\n",
    "plt.show()"
   ]
  },
  {
   "cell_type": "code",
   "execution_count": null,
   "metadata": {},
   "outputs": [],
   "source": []
  }
 ],
 "metadata": {
  "kernelspec": {
   "display_name": "Python 3",
   "language": "python",
   "name": "python3"
  },
  "language_info": {
   "codemirror_mode": {
    "name": "ipython",
    "version": 3
   },
   "file_extension": ".py",
   "mimetype": "text/x-python",
   "name": "python",
   "nbconvert_exporter": "python",
   "pygments_lexer": "ipython3",
   "version": "3.8.3"
  }
 },
 "nbformat": 4,
 "nbformat_minor": 4
}
